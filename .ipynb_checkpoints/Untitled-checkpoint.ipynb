{
 "cells": [
  {
   "cell_type": "code",
   "execution_count": 6,
   "id": "b26c5df9-f2de-40eb-aa35-4625ca03c7f6",
   "metadata": {},
   "outputs": [
    {
     "ename": "FileNotFoundError",
     "evalue": "[Errno 2] No such file or directory: 'Data/Loans_Database_Table(5).pdf'",
     "output_type": "error",
     "traceback": [
      "\u001b[1;31m---------------------------------------------------------------------------\u001b[0m",
      "\u001b[1;31mFileNotFoundError\u001b[0m                         Traceback (most recent call last)",
      "Cell \u001b[1;32mIn[6], line 16\u001b[0m\n\u001b[0;32m     13\u001b[0m     \u001b[38;5;28;01mreturn\u001b[39;00m tables\n\u001b[0;32m     15\u001b[0m pdf_path \u001b[38;5;241m=\u001b[39m \u001b[38;5;124m'\u001b[39m\u001b[38;5;124mData/Loans_Database_Table(5).pdf\u001b[39m\u001b[38;5;124m'\u001b[39m\n\u001b[1;32m---> 16\u001b[0m tables \u001b[38;5;241m=\u001b[39m \u001b[43mextract_tables_from_pdf\u001b[49m\u001b[43m(\u001b[49m\u001b[43mpdf_path\u001b[49m\u001b[43m)\u001b[49m\n\u001b[0;32m     18\u001b[0m \u001b[38;5;66;03m# Assume the first table is the one we want\u001b[39;00m\n\u001b[0;32m     19\u001b[0m \u001b[38;5;28;01mif\u001b[39;00m tables:\n",
      "Cell \u001b[1;32mIn[6], line 9\u001b[0m, in \u001b[0;36mextract_tables_from_pdf\u001b[1;34m(pdf_path)\u001b[0m\n\u001b[0;32m      8\u001b[0m \u001b[38;5;28;01mdef\u001b[39;00m \u001b[38;5;21mextract_tables_from_pdf\u001b[39m(pdf_path):\n\u001b[1;32m----> 9\u001b[0m     \u001b[38;5;28;01mwith\u001b[39;00m \u001b[43mpdfplumber\u001b[49m\u001b[38;5;241;43m.\u001b[39;49m\u001b[43mopen\u001b[49m\u001b[43m(\u001b[49m\u001b[43mpdf_path\u001b[49m\u001b[43m)\u001b[49m \u001b[38;5;28;01mas\u001b[39;00m pdf:\n\u001b[0;32m     10\u001b[0m         tables \u001b[38;5;241m=\u001b[39m []\n\u001b[0;32m     11\u001b[0m         \u001b[38;5;28;01mfor\u001b[39;00m page \u001b[38;5;129;01min\u001b[39;00m pdf\u001b[38;5;241m.\u001b[39mpages:\n",
      "File \u001b[1;32m~\\AppData\\Local\\Programs\\Python\\Python312\\Lib\\site-packages\\pdfplumber\\pdf.py:86\u001b[0m, in \u001b[0;36mPDF.open\u001b[1;34m(cls, path_or_fp, pages, laparams, password, strict_metadata, repair, gs_path)\u001b[0m\n\u001b[0;32m     84\u001b[0m     path \u001b[38;5;241m=\u001b[39m \u001b[38;5;28;01mNone\u001b[39;00m\n\u001b[0;32m     85\u001b[0m \u001b[38;5;28;01melif\u001b[39;00m \u001b[38;5;28misinstance\u001b[39m(path_or_fp, (\u001b[38;5;28mstr\u001b[39m, pathlib\u001b[38;5;241m.\u001b[39mPath)):\n\u001b[1;32m---> 86\u001b[0m     stream \u001b[38;5;241m=\u001b[39m \u001b[38;5;28;43mopen\u001b[39;49m\u001b[43m(\u001b[49m\u001b[43mpath_or_fp\u001b[49m\u001b[43m,\u001b[49m\u001b[43m \u001b[49m\u001b[38;5;124;43m\"\u001b[39;49m\u001b[38;5;124;43mrb\u001b[39;49m\u001b[38;5;124;43m\"\u001b[39;49m\u001b[43m)\u001b[49m\n\u001b[0;32m     87\u001b[0m     stream_is_external \u001b[38;5;241m=\u001b[39m \u001b[38;5;28;01mFalse\u001b[39;00m\n\u001b[0;32m     88\u001b[0m     path \u001b[38;5;241m=\u001b[39m pathlib\u001b[38;5;241m.\u001b[39mPath(path_or_fp)\n",
      "\u001b[1;31mFileNotFoundError\u001b[0m: [Errno 2] No such file or directory: 'Data/Loans_Database_Table(5).pdf'"
     ]
    }
   ],
   "source": [
    "import pandas as pd\n",
    "import pdfplumber\n",
    "\n",
    "# Load Excel file\n",
    "excel_df = pd.read_excel('Data/APEX Loan Data (5).xlsx')\n",
    "\n",
    "# Load PDF file\n",
    "def extract_tables_from_pdf(pdf_path):\n",
    "    with pdfplumber.open(pdf_path) as pdf:\n",
    "        tables = []\n",
    "        for page in pdf.pages:\n",
    "            tables.extend(page.extract_tables())\n",
    "    return tables\n",
    "\n",
    "pdf_path = 'Data/APEX_Loans_Database_Table (5).pdf'\n",
    "tables = extract_tables_from_pdf(pdf_path)\n",
    "\n",
    "# Assume the first table is the one we want\n",
    "if tables:\n",
    "    pdf_df = pd.DataFrame(tables[0][1:], columns=tables[0][0])\n",
    "else:\n",
    "    print(\"No tables found in the PDF\")"
   ]
  },
  {
   "cell_type": "code",
   "execution_count": null,
   "id": "51f70146-5176-42d1-8049-e1cb884abda0",
   "metadata": {},
   "outputs": [],
   "source": [
    "# Convert data types to match\n",
    "pdf_df['Self_Employed'] = pdf_df['Self_Employed'].map({'No': 0, 'Yes': 1})\n",
    "pdf_df['ApplicantIncome'] = pd.to_numeric(pdf_df['ApplicantIncome'], errors='coerce')\n",
    "pdf_df['CoapplicantIncome'] = pd.to_numeric(pdf_df['CoapplicantIncome'], errors='coerce')\n",
    "pdf_df['LoanAmount'] = pd.to_numeric(pdf_df['LoanAmount'], errors='coerce')\n",
    "pdf_df['Loan_Amount_Term'] = pd.to_numeric(pdf_df['Loan_Amount_Term'], errors='coerce')\n",
    "pdf_df['Credit_History'] = pd.to_numeric(pdf_df['Credit_History'], errors='coerce')\n",
    "\n",
    "# Ensure 'Property_Area' and 'Loan_Status' are strings in both dataframes\n",
    "pdf_df['Property_Area'] = pdf_df['Property_Area'].astype(str)\n",
    "pdf_df['Loan_Status'] = pdf_df['Loan_Status'].astype(str)\n",
    "excel_df['Property_Area'] = excel_df['Property_Area'].astype(str)\n",
    "excel_df['Loan_Status'] = excel_df['Loan_Status'].astype(str)\n",
    "\n",
    "# Now merge the dataframes\n",
    "merged_df = pd.merge(pdf_df, excel_df, on=['Self_Employed', 'ApplicantIncome', 'CoapplicantIncome', 'LoanAmount', 'Loan_Amount_Term', 'Credit_History', 'Property_Area', 'Loan_Status'], how='outer')\n",
    "\n",
    "# Print the shape of the merged dataframe to verify the merge\n",
    "print(merged_df.shape)\n",
    "\n",
    "# Display the first few rows of the merged dataframe\n",
    "print(merged_df.head())"
   ]
  }
 ],
 "metadata": {
  "kernelspec": {
   "display_name": "Python 3 (ipykernel)",
   "language": "python",
   "name": "python3"
  },
  "language_info": {
   "codemirror_mode": {
    "name": "ipython",
    "version": 3
   },
   "file_extension": ".py",
   "mimetype": "text/x-python",
   "name": "python",
   "nbconvert_exporter": "python",
   "pygments_lexer": "ipython3",
   "version": "3.12.4"
  }
 },
 "nbformat": 4,
 "nbformat_minor": 5
}
